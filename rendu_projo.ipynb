{
 "cells": [
  {
   "cell_type": "markdown",
   "metadata": {},
   "source": [
    "# Salut le projo\n"
   ]
  },
  {
   "cell_type": "code",
   "execution_count": 14,
   "metadata": {},
   "outputs": [],
   "source": [
    "import autograd\n",
    "from autograd import numpy as np\n",
    "import matplotlib.pyplot as plt"
   ]
  },
  {
   "cell_type": "markdown",
   "metadata": {},
   "source": [
    "Les fonctions bien pratiques : \n",
    "\n",
    "- distance permet de calculer les distances entre deux points a et b\n",
    "\n",
    "- perpendicular rend la normal à un vecteur (un point en fait) (direction arbitraire)"
   ]
  },
  {
   "cell_type": "code",
   "execution_count": 15,
   "metadata": {},
   "outputs": [],
   "source": [
    "def distance(a, b) :\n",
    "    return ((a[0] - b[0])**2 + (a[1]-b[1])**2 ) ** 0.5\n",
    "\n",
    "def perpendicular( a ) :\n",
    "    b = np.array([-a[1], a[0]])\n",
    "    return b\n"
   ]
  },
  {
   "cell_type": "markdown",
   "metadata": {},
   "source": [
    "Je définis la fonction contrainte qui impose la distance delta entre deux points du tracé de notre ligne de niveau"
   ]
  },
  {
   "cell_type": "code",
   "execution_count": 16,
   "metadata": {},
   "outputs": [],
   "source": [
    "def contrainte(a,b,delta):\n",
    "    return distance(a,b) - delta"
   ]
  },
  {
   "cell_type": "markdown",
   "metadata": {},
   "source": [
    "La fonction F qui va de R^2 dans R^2, qui lorsqu'elle s'annule :\n",
    "\n",
    "- vérifie avec sa première coordonnée que le point est bien sur la ligne de niveau f(x,y)=c\n",
    "\n",
    "- s'assure que le nouveau point créé ,b , est à la distance delta du point précédent de la ligne de niveau, a\n",
    "\n",
    "Cette fonction permettra par la suite d'utiliser la méthode de newton..."
   ]
  },
  {
   "cell_type": "code",
   "execution_count": 17,
   "metadata": {},
   "outputs": [],
   "source": [
    "def F(a, b, c, delta, f):\n",
    "    return np.array([[f(b[0],b[1])-c],[contrainte(a, b, delta)]])"
   ]
  },
  {
   "cell_type": "code",
   "execution_count": 18,
   "metadata": {},
   "outputs": [],
   "source": [
    "def find_seed(g, c=0, eps = 2**(-26)) :\n",
    "    # On cherche le réel t tq f(0,t) = c par dichotomie\n",
    "    a = 0\n",
    "    b = 1\n",
    "    if not (g(a) <= c <= g(b) or g(a) >= c >= g(b)) :\n",
    "        return None\n",
    "    while b-a > 2*eps :\n",
    "        t = (b+a) / 2\n",
    "        if g(t) > c :\n",
    "            b = t\n",
    "        elif g(t) < c :\n",
    "            a = t\n",
    "        elif g(t) == c :\n",
    "            return t\n",
    "    return (b+a) / 2\n",
    "\n",
    "#NB : Ici la condition \"raisonnable\" provient du TVI : c compris entre f(0,1) et f(0,0) => t existe"
   ]
  },
  {
   "cell_type": "markdown",
   "metadata": {},
   "source": [
    "Ici les fonctions gradient et Jacobienne, recopiée directement du poly"
   ]
  },
  {
   "cell_type": "code",
   "execution_count": 19,
   "metadata": {},
   "outputs": [],
   "source": [
    "def grad_f(f,x,y) :\n",
    "    g = autograd.grad\n",
    "    return np.r_[g(f, 0)(x, y), g(f, 1)(x, y)]\n",
    "\n",
    "def Jacob(F, x, y) :\n",
    "    j = autograd.jacobian\n",
    "    return np.c_[j(F, 0)(x, y), j(F, 1)(x, y)]"
   ]
  },
  {
   "cell_type": "code",
   "execution_count": 20,
   "metadata": {},
   "outputs": [],
   "source": [
    "def simple_contour(f, c=0.0, delta=0.01, eps = 2**(-26)) :\n",
    "\n",
    "    def g(y) :\n",
    "        return f(0, y)\n",
    "\n",
    "    if find_seed(g, c) == None :\n",
    "        return [], []\n",
    "\n",
    "    X = [0.0]\n",
    "    Y = [find_seed(g, c)]    # içi le premier point de la ligne de niveau est construit grâce à la dichotomie\n",
    "    \n",
    "    perp = perpendicular(grad_f(f, X[0], Y[0]))    #on construit la perpendiculaire au gradient calculé en ce premier point\n",
    "   \n",
    "    tg = (perp / np.linalg.norm(perp)) * delta     #la norme du gradient (et donc de la perpendiculaire) étant arbitraire,\n",
    "                                                   #il fallait la normer, puis la multiplier par delta\n",
    "    \n",
    "    \n",
    "    if tg[0] >= 0 :             # ce test permet de vérifier que la tangeante part bien vers la droite\n",
    "        X.append(X[0] + tg[0])\n",
    "        Y.append(Y[0] + tg[1])\n",
    "    else :\n",
    "        X.append(X[0] - tg[0])  #si ce n'est pas le cas il suffit d'utiliser l'opposé de notre tangeante.\n",
    "        Y.append(Y[0] - tg[1])\n",
    "\n",
    "    while not fin_ligne(X, Y, delta) :\n",
    "        gradient = grad_f(f, X[-1], Y[-1])\n",
    "        perp = perpendicular(gradient)\n",
    "        tg = (perp / np.linalg.norm(perp)) * delta\n",
    "        adernier = [X[-2], Y[-2]]\n",
    "        dernier = [X[-1],Y[-1]]\n",
    "        \n",
    "        if distance(adernier, dernier + tg) >= distance(adernier, dernier - tg) :\n",
    "            newton0 = dernier + tg\n",
    "        else :\n",
    "            newton0 = dernier - tg\n",
    "            \n",
    "        suivant = Newton(f, newton0, dernier, c, delta, eps)\n",
    "        X.append(suivant[0])\n",
    "        Y.append(suivant[1])\n",
    "    \n",
    "    return X, Y\n",
    "    # Il reste alors à plotter la ligne de niveau\n",
    "            \n",
    "            \n",
    "def Newton(f, newton0, dernier, c, delta, eps = 2**(-26)) :\n",
    "    newton_k = newton0\n",
    "    Fk = F(newton_k, dernier, c, delta, f)\n",
    "    while Fk[0] > eps and Fk[1] > eps :\n",
    "        J_inv = np.linalg.inv(Jacob(F, newton_k[0], newton_k[1]))\n",
    "        newton_k = newton_k - np.dot(J_inv, F(newton_k, dernier, c, delta, f))\n",
    "    return newton_k\n",
    "                \n",
    "def fin_ligne(X, Y, delta) :\n",
    "    if X[-1] > 1 - delta/2 or X[-1] < delta/2 or Y[-1] > 1 - delta/2 or Y[-1] < delta/2 :\n",
    "        return True\n",
    "    if distance([X[0], Y[0]], [X[-1], Y[-1]]) < delta/2 :\n",
    "        return True\n",
    "    return False\n",
    "        \n",
    "\n"
   ]
  },
  {
   "cell_type": "code",
   "execution_count": 21,
   "metadata": {},
   "outputs": [],
   "source": [
    "def f(x, y) : # Fonction du poly\n",
    "    return 2 * (np.exp(-x**2 - y**2) - np.exp(-(x-1)**2 - (y-1)**2))\n",
    "\n",
    "def Test_jacob(x, y) :\n",
    "    return np.array([[2*np.exp(x)], [np.exp(y)]])\n",
    "\n"
   ]
  },
  {
   "cell_type": "markdown",
   "metadata": {},
   "source": [
    "# Test de la fonction simple_contour :\n",
    "Si la fonction marche, alors le test devrait nous donner un arc de cercle de rayon 0.8.\n",
    "\n",
    "**Erreurs rencontrées (et corrigées) grâce à ce test :**\n",
    "- La fonction ne renvoyait que 2 points et s'arrêtait aussitôt : oubli de rendre le vecteur tangent de norme delta : on sort tout de suit du cadre\n",
    "- Erreurs de syntaxe et de typage : la fonction gradient n'aime pas les entiers, on a donc initalisé X avec [0.0] plutôt que [0]"
   ]
  },
  {
   "cell_type": "code",
   "execution_count": 22,
   "metadata": {},
   "outputs": [
    {
     "data": {
      "text/plain": [
       "[<matplotlib.lines.Line2D at 0x1f7862df5c0>]"
      ]
     },
     "execution_count": 22,
     "metadata": {},
     "output_type": "execute_result"
    },
    {
     "data": {
      "image/png": "[encoded data removed]",
      "text/plain": [
       "<Figure size 432x288 with 1 Axes>"
      ]
     },
     "metadata": {
      "needs_background": "light"
     },
     "output_type": "display_data"
    }
   ],
   "source": [
    "def test_simple(x,y) :\n",
    "    return x**2 + y**2\n",
    "\n",
    "les_x, les_y = simple_contour(test_simple, c = 0.64, delta = 0.001)\n",
    "#print(les_x, les_y)\n",
    "plt.plot(les_x, les_y)"
   ]
  },
  {
   "cell_type": "code",
   "execution_count": 64,
   "metadata": {},
   "outputs": [
    {
     "data": {
      "text/plain": [
       "<function matplotlib.pyplot.show(*args, **kw)>"
      ]
     },
     "execution_count": 64,
     "metadata": {},
     "output_type": "execute_result"
    },
    {
     "data": {
      "image/png": "[encoded data removed]",
      "text/plain": [
       "<Figure size 432x288 with 1 Axes>"
      ]
     },
     "metadata": {
      "needs_background": "light"
     },
     "output_type": "display_data"
    }
   ],
   "source": [
    "# Rotators\n",
    "# ------------------------------------------------------------------------------\n",
    "LEFT, UP, RIGHT, DOWN = 0, 1, 2, 3  # clockwise\n",
    "\n",
    "\n",
    "def rotate_direction(direction, n=1):\n",
    "    return (direction + n) % 4\n",
    "\n",
    "\n",
    "def rotate(x, y, n=1):\n",
    "    if n == 0:\n",
    "        return x, y\n",
    "    elif n >= 1:\n",
    "        return rotate(1 - y, x, n - 1)\n",
    "    else:\n",
    "        assert n < 0\n",
    "        return rotate(x, y, n=-3 * n)\n",
    "\n",
    "\n",
    "def rotate_function(f, n=1):\n",
    "    def rotated_function(x, y):\n",
    "        xr, yr = rotate(x, y, -n)\n",
    "        return f(xr, yr)\n",
    "\n",
    "    return rotated_function\n",
    "\n",
    "\n",
    "# Complex Contouring\n",
    "# ------------------------------------------------------------------------------\n",
    "\n",
    "# Customize the simple_contour function used in contour :\n",
    "# simple_contour = smart_simple_contour\n",
    "\n",
    "\n",
    "def contour(f, c, xs=[-1.0,0.0, 1.0], ys=[-1.0,0.0, 1.0], delta=0.01):\n",
    "    curves = []\n",
    "    nx, ny = len(xs), len(ys)\n",
    "    for i in range(nx - 1):\n",
    "        for j in range(ny - 1):\n",
    "            xmin, xmax = xs[i], xs[i + 1]\n",
    "            ymin, ymax = ys[j], ys[j + 1]\n",
    "\n",
    "            def f_cell(x, y):\n",
    "                return f(xmin + (xmax - xmin) * x, ymin + (ymax - ymin) * y)\n",
    "\n",
    "            done = set()\n",
    "            for n in [0, 1, 2, 3]:\n",
    "                if n not in done:\n",
    "                    rotated_f_cell = rotate_function(f_cell, n)\n",
    "                    x_curve_r, y_curve_r = simple_contour(rotated_f_cell, c, delta)\n",
    "                    exit = None\n",
    "                    if len(x_curve_r) >= 1:\n",
    "                        xf, yf = x_curve_r[-1], y_curve_r[-1]\n",
    "                        if xf == 0.0:\n",
    "                            exit = LEFT\n",
    "                        elif xf == 1.0:\n",
    "                            exit = RIGHT\n",
    "                        elif yf == 0.0:\n",
    "                            exit = DOWN\n",
    "                        elif yf == 1.0:\n",
    "                            exit = UP\n",
    "                    if exit is not None:  # a fully successful contour fragment\n",
    "                        exit = rotate_direction(exit, n)\n",
    "                        done.add(exit)\n",
    "\n",
    "                    x_curve, y_curve = [], []\n",
    "                    for x_r, y_r in zip(x_curve_r, y_curve_r):\n",
    "                        x, y = rotate(x_r, y_r, n=-n)\n",
    "                        x_curve.append(x)\n",
    "                        y_curve.append(y)\n",
    "                    x_curve = np.array(x_curve)\n",
    "                    y_curve = np.array(y_curve)\n",
    "                    curves.append(\n",
    "                        (xmin + (xmax - xmin) * x_curve, ymin + (ymax - ymin) * y_curve)\n",
    "                    )\n",
    "    return curves\n",
    "\n",
    "level_curves=contour(test_simple, 0.64)\n",
    "\n",
    "for x, y in level_curves:\n",
    "    plt.plot(x, y)\n",
    "    \n",
    "plt.axis([-1,1,-1,1])\n",
    "plt.tight_layout()\n",
    "plt.show\n",
    "    "
   ]
  },
  {
   "cell_type": "code",
   "execution_count": null,
   "metadata": {},
   "outputs": [],
   "source": []
  }
 ],
 "metadata": {
  "kernelspec": {
   "display_name": "Python 3",
   "language": "python",
   "name": "python3"
  },
  "language_info": {
   "codemirror_mode": {
    "name": "ipython",
    "version": 3
   },
   "file_extension": ".py",
   "mimetype": "text/x-python",
   "name": "python",
   "nbconvert_exporter": "python",
   "pygments_lexer": "ipython3",
   "version": "3.7.3"
  }
 },
 "nbformat": 4,
 "nbformat_minor": 2
}

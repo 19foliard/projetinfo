{
 "cells": [
  {
   "cell_type": "markdown",
   "metadata": {},
   "source": [
    "# Salut le projo\n"
   ]
  },
  {
   "cell_type": "code",
   "execution_count": 1,
   "metadata": {},
   "outputs": [],
   "source": [
    "import autograd\n",
    "from autograd import numpy as np\n",
    "import matplotlib.pyplot as plt"
   ]
  },
  {
   "cell_type": "markdown",
   "metadata": {},
   "source": [
    "Les fonctions bien pratiques : \n",
    "\n",
    "- distance permet de calculer les distances entre deux points a et b\n",
    "\n",
    "- perpendicular rend la normal à un vecteur (un point en fait) (direction arbitraire)"
   ]
  },
  {
   "cell_type": "code",
   "execution_count": 2,
   "metadata": {},
   "outputs": [],
   "source": [
    "def distance(a, b) :\n",
    "    return ((a[0] - b[0])**2 + (a[1]-b[1])**2 ) ** 0.5\n",
    "\n",
    "def perpendicular( a ) :\n",
    "    b = np.array([-a[1], a[0]])\n",
    "    return b\n"
   ]
  },
  {
   "cell_type": "markdown",
   "metadata": {},
   "source": [
    "Je définis la fonction contrainte qui impose la distance delta entre deux points du tracé de notre ligne de niveau"
   ]
  },
  {
   "cell_type": "code",
   "execution_count": 3,
   "metadata": {},
   "outputs": [],
   "source": [
    "def contrainte(a,b,delta):\n",
    "    return distance(a,b) - delta"
   ]
  },
  {
   "cell_type": "markdown",
   "metadata": {},
   "source": [
    "La fonction F qui va de R^2 dans R^2, qui lorsqu'elle s'annule :\n",
    "\n",
    "- vérifie avec sa première coordonnée que le point est bien sur la ligne de niveau f(x,y)=c\n",
    "\n",
    "- s'assure que le nouveau point créé ,b , est à la distance delta du point précédent de la ligne de niveau, a\n",
    "\n",
    "Cette fonction permettra par la suite d'utiliser la méthode de newton..."
   ]
  },
  {
   "cell_type": "code",
   "execution_count": 4,
   "metadata": {},
   "outputs": [],
   "source": [
    "def F(a, b, c, delta, f):\n",
    "    return(np.array[[f(b[0],b[1])-c],[contrainte(a, b, delta)]])"
   ]
  },
  {
   "cell_type": "code",
   "execution_count": 5,
   "metadata": {},
   "outputs": [],
   "source": [
    "def find_seed(g, c=0, eps = 2**(-26)) :\n",
    "    # On cherche le réel t tq f(0,t) = c par dichotomie\n",
    "    a = 0\n",
    "    b = 1\n",
    "    if not (g(a) <= c <= g(b) or g(a) >= c >= g(b)) :\n",
    "        return None\n",
    "    while b-a > 2*eps :\n",
    "        t = (b+a) / 2\n",
    "        if g(t) > c :\n",
    "            b = t\n",
    "        elif g(t) < c :\n",
    "            a = t\n",
    "        elif g(t) == c :\n",
    "            return t\n",
    "    return (b+a) / 2\n",
    "\n",
    "#NB : Ici la condition \"raisonnable\" provient du TVI : c compris entre f(0,1) et f(0,0) => t existe"
   ]
  },
  {
   "cell_type": "markdown",
   "metadata": {},
   "source": [
    "Ici les fonctions gradient et Jacobienne, recopiée directement du poly"
   ]
  },
  {
   "cell_type": "code",
   "execution_count": 6,
   "metadata": {},
   "outputs": [],
   "source": [
    "def grad_f(f,x,y) :\n",
    "    g = autograd.grad\n",
    "    return np.r_[g(f, 0)(x, y), g(f, 1)(x, y)]\n",
    "\n",
    "def Jacob(F, x, y) :\n",
    "    j = autograd.jacobian\n",
    "    return np.c_[j(F, 0)(x, y), j(F, 1)(x, y)]"
   ]
  },
  {
   "cell_type": "code",
   "execution_count": 25,
   "metadata": {},
   "outputs": [],
   "source": [
    "def simple_contour(f, c=0.0, delta=0.01, eps = 2**(-26)) :\n",
    "\n",
    "    def g(y) :\n",
    "        return f(0, y)\n",
    "\n",
    "    if find_seed(g, c) == None :\n",
    "        return [], []\n",
    "\n",
    "    X = [0.0]\n",
    "    Y = [find_seed(g, c)]\n",
    "    tg = perpendicular(grad_f(f, X[0], Y[0]))\n",
    "    if tg[0] >= 0 :\n",
    "        X.append(tg[0])\n",
    "        Y.append(tg[1])\n",
    "    else :\n",
    "        X.append(-tg[0])\n",
    "        Y.append(-tg[1])\n",
    "\n",
    "    while not fin_ligne(X, Y, delta) :\n",
    "        gradient = grad_f(X[-1], Y[-1])\n",
    "        perp = perpendicular(gradient)\n",
    "        tg = (perp / np.linalg.norm(perp)) * delta\n",
    "        adernier = [X[-2], Y[-2]]\n",
    "        dernier = [X[-1],Y[-1]]\n",
    "        \n",
    "        if distance(adernier, dernier + tg) >= distance(adernier, dernier - tg) :\n",
    "            newton0 = dernier + tg\n",
    "        else :\n",
    "            newton0 = dernier - tg\n",
    "            \n",
    "        suivant = Newton(f, newton0, dernier, c, delta, eps)\n",
    "        X.append(suivant[0])\n",
    "        Y.append(suivant[1])\n",
    "    \n",
    "    return X, Y\n",
    "    # Il reste alors à plotter la ligne de niveau\n",
    "            \n",
    "            \n",
    "def Newton(f, newton0, dernier, c, delta, eps = 2**(-26)) :\n",
    "    newton_k = newton0\n",
    "    while F(newton_k, dernier, c, delta, f)[0] > eps and F(newton_k, dernier, c, delta, f)[1] > eps :\n",
    "        J_inv = np.linalg.inv(Jacob(F, newton_k[0], newton_k[1]))\n",
    "        newton_k = newton_k - np.dot(J_inv, F(newton_k, dernier, c, delta, f))\n",
    "    return newton_k\n",
    "                \n",
    "def fin_ligne(X, Y, delta) :\n",
    "    if X[-1] > 1 - delta/2 or X[-1] < delta/2 or Y[-1] > 1 - delta/2 or Y[-1] < delta/2 :\n",
    "        return True\n",
    "    if distance([X[0], Y[0]], [X[-1], Y[-1]]) < delta/2 :\n",
    "        return True\n",
    "    return False\n",
    "        \n",
    "\n"
   ]
  },
  {
   "cell_type": "code",
   "execution_count": 8,
   "metadata": {},
   "outputs": [],
   "source": [
    "def f(x, y) : # Fonction du poly\n",
    "    return 2 * (np.exp(-x**2 - y**2) - np.exp(-(x-1)**2 - (y-1)**2))\n",
    "\n",
    "def Test_jacob(x, y) :\n",
    "    return np.array([[2*np.exp(x)], [np.exp(y)]])\n",
    "\n",
    "def test_simple(x,y) :\n",
    "    return x**2 + y**2"
   ]
  },
  {
   "cell_type": "code",
   "execution_count": 26,
   "metadata": {},
   "outputs": [
    {
     "name": "stdout",
     "output_type": "stream",
     "text": [
      "[0.0, 1.5999999940395355] [0.7999999970197678, -0.0]\n"
     ]
    },
    {
     "data": {
      "text/plain": [
       "[<matplotlib.lines.Line2D at 0x17a65ff6d30>]"
      ]
     },
     "execution_count": 26,
     "metadata": {},
     "output_type": "execute_result"
    },
    {
     "data": {
      "image/png": "[encoded data removed]",
      "text/plain": [
       "<Figure size 432x288 with 1 Axes>"
      ]
     },
     "metadata": {
      "needs_background": "light"
     },
     "output_type": "display_data"
    }
   ],
   "source": [
    "les_x, les_y = simple_contour(test_simple, c = 0.64, delta = 0.001)\n",
    "print(les_x, les_y)\n",
    "plt.plot(les_x, les_y)"
   ]
  },
  {
   "cell_type": "code",
   "execution_count": null,
   "metadata": {},
   "outputs": [],
   "source": []
  },
  {
   "cell_type": "code",
   "execution_count": null,
   "metadata": {},
   "outputs": [],
   "source": []
  }
 ],
 "metadata": {
  "kernelspec": {
   "display_name": "Python 3",
   "language": "python",
   "name": "python3"
  },
  "language_info": {
   "codemirror_mode": {
    "name": "ipython",
    "version": 3
   },
   "file_extension": ".py",
   "mimetype": "text/x-python",
   "name": "python",
   "nbconvert_exporter": "python",
   "pygments_lexer": "ipython3",
   "version": "3.7.3"
  }
 },
 "nbformat": 4,
 "nbformat_minor": 2
}

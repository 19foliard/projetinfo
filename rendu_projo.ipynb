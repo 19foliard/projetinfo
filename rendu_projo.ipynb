{
 "cells": [
  {
   "cell_type": "markdown",
   "metadata": {},
   "source": [
    "# Salut le projo\n"
   ]
  },
  {
   "cell_type": "markdown",
   "metadata": {},
   "source": [
    "J'essaye de définir la contrainte"
   ]
  },
  {
   "cell_type": "code",
   "execution_count": 2,
   "metadata": {},
   "outputs": [],
   "source": [
    "def contrainte(a,x,y,delta):\n",
    "    dist= ((x-a[0])**2+(y-a[1])**2)**(1/2)\n",
    "    return (dist-delta)"
   ]
  },
  {
   "cell_type": "code",
   "execution_count": 3,
   "metadata": {},
   "outputs": [],
   "source": [
    "def F(a,x,y,c,delta,f):\n",
    "    return(np.array[[f(x,y)-c],[contrainte(a,x,y,delta)]])"
   ]
  },
  {
   "cell_type": "code",
   "execution_count": 4,
   "metadata": {},
   "outputs": [],
   "source": [
    "import autograd\n",
    "from autograd import numpy as np\n",
    "import matplotlib.pyplot as plt"
   ]
  },
  {
   "cell_type": "code",
   "execution_count": 5,
   "metadata": {},
   "outputs": [],
   "source": [
    "def find_seed(g, c=0, eps = 2**(-26)) :\n",
    "    # On cherche le réel t tq f(0,t) = c par dichotomie\n",
    "    a = 0\n",
    "    b = 1\n",
    "    if not (g(a) <= c <= g(b) or g(a) >= c >= g(b)) :\n",
    "        return None\n",
    "    while b-a > 2*eps :\n",
    "        t = (b+a) / 2\n",
    "        if g(t) > c :\n",
    "            b = t\n",
    "        elif g(t) < c :\n",
    "            a = t\n",
    "        elif g(t) == c :\n",
    "            return t\n",
    "    return (b+a) / 2\n",
    "\n",
    "#NB : Ici la condition \"raisonnable\" provient du TVI : c compris entre f(0,1) et f(0,0) => t existe"
   ]
  },
  {
   "cell_type": "code",
   "execution_count": 10,
   "metadata": {},
   "outputs": [],
   "source": [
    "def distance2(a, b) :\n",
    "    return (a[0] - b[0])**2 + (a[1]-b[1])**2\n",
    "\n",
    "def perpendicular( a ) :\n",
    "    b = np.array([-a[1], a[0]])\n",
    "    return b\n",
    "\n",
    "\n",
    "def simple_contour(f, c=0.0, delta=0.01) :\n",
    "\n",
    "    def g(y) :\n",
    "        return f(0, y)\n",
    "\n",
    "    if find_seed(g, c) == None :\n",
    "        return None\n",
    "\n",
    "    X = [0]\n",
    "    Y = [find_seed(g, c)]\n",
    "    tg = perpendicular(grad_f(X[0], Y[0]))\n",
    "    if tg[0] >= 0 :\n",
    "        X.append(tg[0])\n",
    "        Y.append(tg[1])\n",
    "    else :\n",
    "        X.append(-tg[0])\n",
    "        Y.append(-tg[1])\n",
    "\n",
    "    while not fin_ligne(X, Y, delta) :\n",
    "        gradient = grad_f(X[-1], Y[-1])\n",
    "        perp = perpendicular(gradient)\n",
    "        tg = perp / np.linalg.norm(perp) * delta\n",
    "        adernier = [X[-2], Y[-2]]\n",
    "        dernier = [X[-1],Y[-1]]\n",
    "        if distance2(adernier, dernier + tg) >= distance2(adernier, dernier - tg) :\n",
    "            X.append(dernier[0] + tg[0])\n",
    "            Y.append(dernier[1] + tg[1])\n",
    "        else :\n",
    "            X.append(dernier[0] - tg[0])\n",
    "            Y.append(dernier[1] - tg[1])\n",
    "\n",
    "def fin_ligne(X, Y, delta) :\n",
    "    if X[-1] > 1 -  delta or X[-1] < delta or Y[-1] > 1 - delta or Y[-1] < delta :\n",
    "        return 0\n",
    "# Attention on a un pb si le gradient devient nul : comment définir la tangente ?\n",
    "\n",
    "def grad_f(f,x,y) :\n",
    "    g = autograd.grad\n",
    "    return np.r_[g(f, 0)(x, y), g(f, 1)(x, y)]\n",
    "\n",
    "def f(x, y) :\n",
    "    return np.sin(x) + 2.0 * np.sin(y)\n",
    "\n",
    "def Test_jacob(x, y) :\n",
    "    return np.array([np.exp(x), np.exp(y)])"
   ]
  },
  {
   "cell_type": "code",
   "execution_count": 11,
   "metadata": {},
   "outputs": [],
   "source": [
    "def Jacob(F, x, y) :\n",
    "    j = autograd.jacobian\n",
    "    return np.c_[j(F, 0)(x, y), j(F, 1)(x, y)]"
   ]
  },
  {
   "cell_type": "code",
   "execution_count": 12,
   "metadata": {},
   "outputs": [
    {
     "data": {
      "text/plain": [
       "array([[1., 0.],\n",
       "       [0., 1.]])"
      ]
     },
     "execution_count": 12,
     "metadata": {},
     "output_type": "execute_result"
    }
   ],
   "source": [
    "Jacob(Test_jacob, 0.0, 0.0)"
   ]
  },
  {
   "cell_type": "code",
   "execution_count": null,
   "metadata": {},
   "outputs": [],
   "source": []
  }
 ],
 "metadata": {
  "kernelspec": {
   "display_name": "Python 3",
   "language": "python",
   "name": "python3"
  },
  "language_info": {
   "codemirror_mode": {
    "name": "ipython",
    "version": 3
   },
   "file_extension": ".py",
   "mimetype": "text/x-python",
   "name": "python",
   "nbconvert_exporter": "python",
   "pygments_lexer": "ipython3",
   "version": "3.7.3"
  }
 },
 "nbformat": 4,
 "nbformat_minor": 2
}

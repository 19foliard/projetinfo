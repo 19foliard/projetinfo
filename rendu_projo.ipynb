{
 "cells": [
  {
   "cell_type": "markdown",
   "metadata": {},
   "source": [
    "# Salut le projo\n"
   ]
  },
  {
   "cell_type": "markdown",
   "metadata": {},
   "source": [
    "J'essaye de définir la contrainte"
   ]
  },
  {
   "cell_type": "code",
   "execution_count": 2,
   "metadata": {},
   "outputs": [],
   "source": [
    "def contrainte(a,x,y,delta):\n",
    "    dist= ((x-a[0])**2+(y-a[1])**2)**(1/2)\n",
    "    return (dist-delta)"
   ]
  },
  {
   "cell_type": "code",
   "execution_count": 3,
   "metadata": {},
   "outputs": [],
   "source": [
    "def F(a,x,y,c,delta,f):\n",
    "    return(np.array[[f(x,y)-c],[contrainte(a,x,y,delta)]])"
   ]
  },
  {
   "cell_type": "code",
   "execution_count": null,
   "metadata": {},
   "outputs": [],
   "source": [
    "import autograd\n",
    "from autograd import numpy as np\n",
    "import matplotlib.pyplot as plt"
   ]
  },
  {
   "cell_type": "code",
   "execution_count": null,
   "metadata": {},
   "outputs": [],
   "source": [
    "def find_seed(g, c=0, eps = 2**(-26)) :\n",
    "    # On cherche le réel t tq f(0,t) = c par dichotomie\n",
    "    a = 0\n",
    "    b = 1\n",
    "    if not (g(a) <= c <= g(b) or g(a) >= c >= g(b)) :\n",
    "        return None\n",
    "    while b-a > 2*eps :\n",
    "        t = (b+a) / 2\n",
    "        if g(t) > c :\n",
    "            b = t\n",
    "        elif g(t) < c :\n",
    "            a = t\n",
    "        elif g(t) == c :\n",
    "            return t\n",
    "    return (b+a) / 2\n",
    "\n",
    "#NB : Ici la condition \"raisonnable\" provient du TVI : c compris entre f(0,1) et f(0,0) => t existe"
   ]
  },
  {
   "cell_type": "code",
   "execution_count": null,
   "metadata": {},
   "outputs": [],
   "source": [
    "def distance2(a, b) :\n",
    "    return (a[0] - b[0])**2 + (a[1]-b[1])**2\n",
    "\n",
    "def perpendicular( a ) :\n",
    "    b = np.array([-a[1], a[0]])\n",
    "    c = np.array([a[1], -a[0]])\n",
    "    return b, c\n",
    "\n",
    "\n",
    "def simple_contour(f, c=0.0, delta=0.01) :\n",
    "\n",
    "    def g(y) :\n",
    "        return f(0, y)\n",
    "\n",
    "    if find_seed(g, c) == None :\n",
    "        return None\n",
    "\n",
    "    X = [0]\n",
    "    Y = [find_seed(g, c)]\n",
    "    tg_tuple = perpendicular(grad_f(X[0], Y[0]))\n",
    "    if tg_tuple[0][0] >= 0 :\n",
    "        X.append(tg_tuple[0][0])\n",
    "        Y.append(tg_tuple[0][1])\n",
    "    else :\n",
    "        X.append(tg_tuple[1][0])\n",
    "        Y.append(tg_tuple[1][1])\n",
    "\n",
    "    while False :\n",
    "        gradient = grad_f(X[-1], Y[-1])\n",
    "        tg_tuple = perpendicular(gradient)\n",
    "        adernier = [X[-2], Y[-2]]\n",
    "        dernier = [X[-1],Y[-1]]\n",
    "        if distance2(adernier, tg_tuple[])\n",
    "\n",
    "\n",
    "# Attention on a un pb si le gradient devient nul : comment tu définis la tangente ?\n",
    "\n",
    "def grad_f(x,y) :\n",
    "    g = autograd.grad\n",
    "    return np.r_[g(f, 0)(x, y), g(f, 1)(x, y)]\n",
    "\n",
    "def f(x, y) :\n",
    "    return np.sin(x) + 2.0 * np.sin(y)"
   ]
  },
  {
   "cell_type": "code",
   "execution_count": null,
   "metadata": {},
   "outputs": [],
   "source": []
  },
  {
   "cell_type": "code",
   "execution_count": null,
   "metadata": {},
   "outputs": [],
   "source": []
  },
  {
   "cell_type": "code",
   "execution_count": null,
   "metadata": {},
   "outputs": [],
   "source": []
  }
 ],
 "metadata": {
  "kernelspec": {
   "display_name": "Python 3",
   "language": "python",
   "name": "python3"
  },
  "language_info": {
   "codemirror_mode": {
    "name": "ipython",
    "version": 3
   },
   "file_extension": ".py",
   "mimetype": "text/x-python",
   "name": "python",
   "nbconvert_exporter": "python",
   "pygments_lexer": "ipython3",
   "version": "3.7.3"
  }
 },
 "nbformat": 4,
 "nbformat_minor": 2
}

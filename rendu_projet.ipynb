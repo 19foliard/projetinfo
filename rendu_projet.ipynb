{
 "cells": [
  {
   "cell_type": "markdown",
   "metadata": {},
   "source": [
    "# Projet numérique :\n",
    "## Maxime Carenso et Thomas Foliard"
   ]
  },
  {
   "cell_type": "code",
   "execution_count": 1,
   "metadata": {},
   "outputs": [],
   "source": [
    "import autograd\n",
    "from autograd import numpy as np\n",
    "import matplotlib.pyplot as plt\n",
    "%matplotlib inline"
   ]
  },
  {
   "cell_type": "markdown",
   "metadata": {},
   "source": [
    "#### Les fonctions bien pratiques : \n",
    "\n",
    "- distance permet de calculer les distances entre deux points a et b\n",
    "\n",
    "- perpendicular renvoie une normale à un vecteur (direction arbitraire)"
   ]
  },
  {
   "cell_type": "code",
   "execution_count": 2,
   "metadata": {},
   "outputs": [],
   "source": [
    "def distance(a, b) :\n",
    "    return ((a[0] - b[0])**2 + (a[1]-b[1])**2 ) ** 0.5\n",
    "\n",
    "def perpendicular( a ) :\n",
    "    b = np.array([-a[1], a[0]])\n",
    "    return b"
   ]
  },
  {
   "cell_type": "markdown",
   "metadata": {},
   "source": [
    "- ici les fonctions gradient et Jacobienne, recopiées directement du poly"
   ]
  },
  {
   "cell_type": "code",
   "execution_count": 3,
   "metadata": {},
   "outputs": [],
   "source": [
    "def grad_f(f,x,y) :\n",
    "    g = autograd.grad\n",
    "    return np.r_[g(f, 0)(x, y), g(f, 1)(x, y)]\n",
    "\n",
    "def Jacob(F, x, y) :\n",
    "    j = autograd.jacobian\n",
    "    return np.c_[j(F, 0)(x, y), j(F, 1)(x, y)]"
   ]
  },
  {
   "cell_type": "markdown",
   "metadata": {},
   "source": [
    "# Fonction find_seed :\n",
    "On considère que la fonction étudiée est continue, et on suppose que les cellules choisies sont assez petites pour que :\n",
    "c soit compris entre f(0, 0) et f(0,1).\n",
    "\n",
    "Sous cette conditiion, le **théorème des valeurs intermédiaires** nous garantit l'existence d'une solution à f(0, t) = c."
   ]
  },
  {
   "cell_type": "code",
   "execution_count": 4,
   "metadata": {},
   "outputs": [],
   "source": [
    "def find_seed(g, c=0, eps = 2**(-26)) :\n",
    "    # On cherche le réel t tq f(0,t) = c par dichotomie\n",
    "    a = 0\n",
    "    b = 1\n",
    "    if (g(0) < c and g(1) < c) or (g(0) > c and g(1) > c) :\n",
    "        return None\n",
    "    while b-a > 2*eps :\n",
    "        t = (b+a) / 2\n",
    "        if g(t) > c :\n",
    "            b = t\n",
    "        elif g(t) < c :\n",
    "            a = t\n",
    "        elif g(t) == c :\n",
    "            return t\n",
    "    return (b+a) / 2"
   ]
  },
  {
   "attachments": {
    "lemniscate.png": {
     "image/png": "[encoded data removed]"
    }
   },
   "cell_type": "markdown",
   "metadata": {},
   "source": [
    "# Fonction simple_contour :\n",
    "\n",
    "### **Fonctionnement :**\n",
    "- On trouve d'abord un point de la ligne de niveau situé sur la bordure droite de la cellule\n",
    "\n",
    "- Ensuite, on trouve une première approximation du point suivant en se déplaçant d'un vecteur de norme delta, colinéaire à un vecteur tangent à la courbe (elle-même perpendiculaire au gradient de la fonction en ce point). Il faut simplement faire attention à se déplacer dans le bon sens, ie à ne pas rebrousser chemin.\n",
    "\n",
    "- Cette méthode seule a une propagation d'erreur trop importante, donc on se rapproche plus du point exact en appliquant la **méthode de Newton** à la fonction F de R² dans R² qui lorsqu'elle s'annule : \n",
    "    - vérifie avec sa première coordonnée que le point est bien sur la ligne de niveau **f(x,y) = c**\n",
    "    - s'assure que le nouveau point créé **b est à la distance delta du point précédent de la ligne de niveau, a**\n",
    "    \n",
    "On utilise également la fonction fin_ligne afin d'arrêter le tracé lorsque :\n",
    "- On arrive au bord de la cellule\n",
    "- On reboucle sur soi-même\n",
    "\n",
    "### **Limites / hypothèses :**\n",
    "\n",
    "- **On ne peut pas définir la tangente lorsque le gradient est nul**, et même si cela n'arrive pas exactement, les erreurs numériques peuvent jouer un rôle prépondérant dans la détermination de sa direction : on évitera les tracés passant par des points critiques.\n",
    "\n",
    "- Par conséquent on suppose que les lignes de niveau sont **de simples boucles**, car des tracés comme celui-ci impliquerait un point critique au point d'intersection :\n",
    "![lemniscate.png](attachment:lemniscate.png)"
   ]
  },
  {
   "cell_type": "code",
   "execution_count": 5,
   "metadata": {},
   "outputs": [],
   "source": [
    "def contrainte(a,b,delta):\n",
    "    return distance(a,b) - delta\n",
    "\n",
    "def F(a, b, c, delta, f):\n",
    "    return np.array([[f(b[0],b[1])-c],[contrainte(a, b, delta)]])\n",
    "\n",
    "def Newton(f, newton0, dernier, c, delta, eps = 2**(-26)) :\n",
    "    newton_k = newton0\n",
    "    Fk = F(newton_k, dernier, c, delta, f)\n",
    "    while Fk[0] > eps and Fk[1] > eps :\n",
    "        J_inv = np.linalg.inv(Jacob(F, newton_k[0], newton_k[1]))\n",
    "        newton_k = newton_k - np.dot(J_inv, F(newton_k, dernier, c, delta, f))\n",
    "    return newton_k\n",
    "                \n",
    "def fin_ligne(X, Y, delta) :\n",
    "    if X[-1] > 1 - delta/10 or X[-1] < delta/10 or Y[-1] > 1 - delta/10 or Y[-1] < delta/10 :\n",
    "        return True\n",
    "    if distance([X[0], Y[0]], [X[-1], Y[-1]]) < delta/2 :\n",
    "        return True\n",
    "    return False"
   ]
  },
  {
   "cell_type": "markdown",
   "metadata": {},
   "source": [
    "**NB :** cette fonction fin_ligne pourrait être problématique si la courbe commence \"presque tangente\" à la bordure de la cellule, ou si f n'est pas définie en dehors"
   ]
  },
  {
   "cell_type": "code",
   "execution_count": 6,
   "metadata": {},
   "outputs": [],
   "source": [
    "def simple_contour(f, c=0.0, delta=0.001, eps = 2**(-26)) :\n",
    "\n",
    "    def g(y) :\n",
    "        return f(0, y)\n",
    "\n",
    "    if find_seed(g, c) == None :\n",
    "        return [], []\n",
    "\n",
    "    X = [0.0] \n",
    "    Y = [find_seed(g, c)]                       # ici le premier point de la ligne de niveau est construit grâce à la dichotomie\n",
    "    \n",
    "    perp = perpendicular(grad_f(f, X[0], Y[0])) # on construit la perpendiculaire au gradient calculé en ce premier point\n",
    "   \n",
    "    tg = (perp / np.linalg.norm(perp)) * delta  # la norme du gradient (et donc de la perpendiculaire) étant arbitraire,\n",
    "                                                # il fallait la normer, puis la multiplier par delta\n",
    "     \n",
    "    \n",
    "    if tg[0] >= 0 :                             # ce test permet de vérifier que la tangente part bien vers la droite\n",
    "        X.append(X[0] + tg[0])\n",
    "        Y.append(Y[0] + tg[1])\n",
    "    else :\n",
    "        X.append(X[0] - tg[0])                  # si ce n'est pas le cas il suffit d'utiliser l'opposé de notre tangeante.\n",
    "        Y.append(Y[0] - tg[1])\n",
    "\n",
    "    while not fin_ligne(X, Y, delta) :\n",
    "        gradient = grad_f(f, X[-1], Y[-1])\n",
    "        perp = perpendicular(gradient)\n",
    "        tg = (perp / np.linalg.norm(perp)) * delta\n",
    "        adernier = [X[-2], Y[-2]]\n",
    "        dernier = [X[-1],Y[-1]]\n",
    "        \n",
    "        if distance(adernier, dernier + tg) >= distance(adernier, dernier - tg) : \n",
    "            newton0 = dernier + tg                                                      \n",
    "        else :\n",
    "            newton0 = dernier - tg\n",
    "        \n",
    "        # On a pris le point le plus loin de l'avant-dernier entre les 2 générés par le vecteur tangent afin d'être sûr\n",
    "        # de s'être déplacé dans la bonne direction (cela sous-entend que la pas delta est assez petit pour gérer les\n",
    "        # changments brusques de direction...)\n",
    "        \n",
    "        suivant = Newton(f, newton0, dernier, c, delta, eps)\n",
    "        X.append(suivant[0])\n",
    "        Y.append(suivant[1])\n",
    "    \n",
    "    return X, Y\n",
    "    # Il reste alors à plotter la ligne de niveau"
   ]
  },
  {
   "cell_type": "code",
   "execution_count": 7,
   "metadata": {},
   "outputs": [],
   "source": [
    "def f(x, y) : # Fonction du poly\n",
    "    return 2 * (np.exp(-x**2 - y**2) - np.exp(-(x-1)**2 - (y-1)**2))"
   ]
  },
  {
   "cell_type": "markdown",
   "metadata": {},
   "source": [
    "# Test de la fonction simple_contour :\n",
    "Si la fonction marche, alors le test devrait nous donner un arc de cercle de rayon 0.8.\n",
    "\n",
    "**Erreurs rencontrées (et corrigées) grâce à ce test :**\n",
    "- La fonction ne renvoyait que 2 points et s'arrêtait aussitôt : oubli de rendre le vecteur tangent de norme delta : on sort tout de suit du cadre\n",
    "- Erreurs de syntaxe et de typage : la fonction gradient n'aime pas les entiers, on a donc initalisé X avec [0.0] plutôt que [0]"
   ]
  },
  {
   "cell_type": "code",
   "execution_count": 8,
   "metadata": {},
   "outputs": [
    {
     "data": {
      "text/plain": [
       "[<matplotlib.lines.Line2D at 0x29968401f60>]"
      ]
     },
     "execution_count": 8,
     "metadata": {},
     "output_type": "execute_result"
    },
    {
     "data": {
      "image/png": "[encoded data removed]",
      "text/plain": [
       "<Figure size 432x288 with 1 Axes>"
      ]
     },
     "metadata": {
      "needs_background": "light"
     },
     "output_type": "display_data"
    }
   ],
   "source": [
    "def test_simple(x,y) :\n",
    "    return x**2 + y**2\n",
    "\n",
    "les_x, les_y = simple_contour(test_simple, c = 0.64, delta = 0.001)\n",
    "#print(les_x, les_y)\n",
    "plt.axis('equal')\n",
    "plt.plot(les_x, les_y)"
   ]
  },
  {
   "cell_type": "markdown",
   "metadata": {},
   "source": [
    "## Fonction contour :\n",
    "\n",
    "Celle du professeur."
   ]
  },
  {
   "cell_type": "code",
   "execution_count": 12,
   "metadata": {},
   "outputs": [
    {
     "data": {
      "text/plain": [
       "<function matplotlib.pyplot.show(*args, **kw)>"
      ]
     },
     "execution_count": 12,
     "metadata": {},
     "output_type": "execute_result"
    },
    {
     "data": {
      "image/png": "[encoded data removed]",
      "text/plain": [
       "<Figure size 432x288 with 1 Axes>"
      ]
     },
     "metadata": {
      "needs_background": "light"
     },
     "output_type": "display_data"
    }
   ],
   "source": [
    "# Rotators\n",
    "# ------------------------------------------------------------------------------\n",
    "LEFT, UP, RIGHT, DOWN = 0, 1, 2, 3  # clockwise\n",
    "\n",
    "\n",
    "def rotate_direction(direction, n=1):\n",
    "    return (direction + n) % 4\n",
    "\n",
    "\n",
    "def rotate(x, y, n=1):\n",
    "    if n == 0:\n",
    "        return x, y\n",
    "    elif n >= 1:\n",
    "        return rotate(1 - y, x, n - 1)\n",
    "    else:\n",
    "        assert n < 0\n",
    "        return rotate(x, y, n=-3 * n)\n",
    "\n",
    "\n",
    "def rotate_function(f, n=1):\n",
    "    def rotated_function(x, y):\n",
    "        xr, yr = rotate(x, y, -n)\n",
    "        return f(xr, yr)\n",
    "\n",
    "    return rotated_function\n",
    "\n",
    "\n",
    "# Complex Contouring\n",
    "# ------------------------------------------------------------------------------\n",
    "\n",
    "# Customize the simple_contour function used in contour :\n",
    "# simple_contour = smart_simple_contour\n",
    "\n",
    "\n",
    "def contour(f, c, xs=[-2.0,-1.0,0.0, 1.0, 2.0, 3.0], ys=[-1.0,0.0, 1.0, 2.0], delta=0.001):\n",
    "    curves = []\n",
    "    nx, ny = len(xs), len(ys)\n",
    "    for i in range(nx - 1):\n",
    "        for j in range(ny - 1):\n",
    "            xmin, xmax = xs[i], xs[i + 1]\n",
    "            ymin, ymax = ys[j], ys[j + 1]\n",
    "\n",
    "            def f_cell(x, y):\n",
    "                return f(xmin + (xmax - xmin) * x, ymin + (ymax - ymin) * y)\n",
    "\n",
    "            done = set()\n",
    "            for n in [0, 1, 2, 3]:\n",
    "                if n not in done:\n",
    "                    rotated_f_cell = rotate_function(f_cell, n)\n",
    "                    x_curve_r, y_curve_r = simple_contour(rotated_f_cell, c, delta)\n",
    "                    exit = None\n",
    "                    if len(x_curve_r) >= 1:\n",
    "                        xf, yf = x_curve_r[-1], y_curve_r[-1]\n",
    "                        if xf == 0 :\n",
    "                            exit = LEFT\n",
    "                        elif xf == 1 :\n",
    "                            exit = RIGHT\n",
    "                        elif yf == 0 :\n",
    "                            exit = DOWN\n",
    "                        elif yf == 1 :\n",
    "                            exit = UP\n",
    "                    if exit is not None:  # a fully successful contour fragment\n",
    "                        exit = rotate_direction(exit, n)\n",
    "                        done.add(exit)\n",
    "\n",
    "                    x_curve, y_curve = [], []\n",
    "                    for x_r, y_r in zip(x_curve_r, y_curve_r):\n",
    "                        x, y = rotate(x_r, y_r, n=-n)\n",
    "                        x_curve.append(x)\n",
    "                        y_curve.append(y)\n",
    "                    x_curve = np.array(x_curve)\n",
    "                    y_curve = np.array(y_curve)\n",
    "                    curves.append(\n",
    "                        (xmin + (xmax - xmin) * x_curve, ymin + (ymax - ymin) * y_curve)\n",
    "                    )\n",
    "    return curves\n",
    "colors = ['pink','red','purple','blue','green','yellow','black']\n",
    "for k in range(1,8):\n",
    "\n",
    "    level_curves=contour(f, (k-4)/2)\n",
    "    \n",
    "    i = 0\n",
    "    for x, y in level_curves:\n",
    "        if i == 0 :\n",
    "            plt.plot(x, y, c=colors[k-1], label = f\"c = {(k-4)/2}\")\n",
    "            i += 1\n",
    "        else : \n",
    "            plt.plot(x, y, c=colors[k-1])\n",
    "            i += 1\n",
    "            \n",
    "plt.legend(bbox_to_anchor=(1.05, 1), loc='upper left', borderaxespad=0.)   \n",
    "plt.axis([-2,3,-1,2])\n",
    "plt.show\n"
   ]
  },
  {
   "cell_type": "markdown",
   "metadata": {},
   "source": [
    "# Problème Rencontré :\n",
    "\n",
    "Des lignes supplémentaires, non désirées apparaissent (parfois seulement un point). \n",
    "Nous avons remarqué que ces lignes ont toujours une extrémité dans le coin d'une cellule :\n",
    "\n",
    "Par exemple, les courbes parasites à l'intérieur des vraies lignes de niveau ont une extrémité en (0,0) ou (1, 1). On a deux points supplémentaires en (-1, 0) et en (2, 1), et la ligne droite entre (1,0) et (0, 1) est couverte par toutes les lignes de niveau...\n",
    "\n",
    "**Hypothèse :** le problème peut venir du find_seed qui ne trouverait pas de solution et divergerait vers une des bornes de son intervalle\n",
    "\n",
    "Malheureusement, la condition imposée est censée garantir l'existence d'une racine, la fonction utilisée étant continue.\n",
    "\n",
    "Ayant testé plusieurs syntaxes de find_seed, nous avons pensé que le problème pourrait provenir de la différence entre la condition de sortie de contour_simple **(être suffisamment proche ou au delà de la bordure)** et les tests de sortie de contour **(dernier point exactement sur la bordure)**, mais adapter fin_ligne / contour_simple pour avoir un point exactement sur la bordure n'a pas fonctionné, et assouplir la condition de contour a mené à la disparition d'une partie de la ligne bleue (car passant par un coin, si on élargit la condition la fonction se \"trompe\" de côté de sortie."
   ]
  },
  {
   "cell_type": "code",
   "execution_count": null,
   "metadata": {},
   "outputs": [],
   "source": []
  }
 ],
 "metadata": {
  "kernelspec": {
   "display_name": "Python 3",
   "language": "python",
   "name": "python3"
  },
  "language_info": {
   "codemirror_mode": {
    "name": "ipython",
    "version": 3
   },
   "file_extension": ".py",
   "mimetype": "text/x-python",
   "name": "python",
   "nbconvert_exporter": "python",
   "pygments_lexer": "ipython3",
   "version": "3.7.3"
  }
 },
 "nbformat": 4,
 "nbformat_minor": 2
}
